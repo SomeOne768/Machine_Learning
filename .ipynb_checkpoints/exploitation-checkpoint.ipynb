{
 "cells": [
  {
   "cell_type": "code",
   "execution_count": 16,
   "id": "f21b6616",
   "metadata": {},
   "outputs": [
    {
     "name": "stdout",
     "output_type": "stream",
     "text": [
      "[[  1.  64.]\n",
      " [  1.  96.]\n",
      " [  1.  33.]\n",
      " [  1.  85.]\n",
      " [  1.  70.]\n",
      " [  1.  20.]\n",
      " [  1.  40.]\n",
      " [  1.  75.]\n",
      " [  1.  33.]\n",
      " [  1. 114.]\n",
      " [  1.  73.]\n",
      " [  1.  30.]\n",
      " [  1.  38.]\n",
      " [  1.  30.]\n",
      " [  1.  20.]\n",
      " [  1.  75.]\n",
      " [  1. 235.]\n",
      " [  1.  31.]\n",
      " [  1.  65.]\n",
      " [  1.  54.]\n",
      " [  1.  50.]\n",
      " [  1.  65.]\n",
      " [  1. 112.]\n",
      " [  1. 108.]\n",
      " [  1.  30.]\n",
      " [  1.  32.]\n",
      " [  1.  13.]\n",
      " [  1. 114.]\n",
      " [  1. 415.]\n",
      " [  1.  39.]\n",
      " [  1.  56.]\n",
      " [  1.  70.]\n",
      " [  1.  74.]\n",
      " [  1. 180.]\n",
      " [  1. 105.]\n",
      " [  1.  26.]\n",
      " [  1.  16.]\n",
      " [  1. 100.]\n",
      " [  1.  56.]\n",
      " [  1.  75.]\n",
      " [  1.  14.]\n",
      " [  1.  55.]\n",
      " [  1.  47.]\n",
      " [  1.  14.]\n",
      " [  1.  70.]\n",
      " [  1. 110.]\n",
      " [  1.  42.]\n",
      " [  1.  70.]\n",
      " [  1.  47.]\n",
      " [  1.  83.]\n",
      " [  1.  20.]\n",
      " [  1.  32.]\n",
      " [  1.  20.]\n",
      " [  1. 114.]\n",
      " [  1.  24.]\n",
      " [  1.  27.]\n",
      " [  1.  24.]\n",
      " [  1.  30.]\n",
      " [  1.  28.]\n",
      " [  1.  54.]\n",
      " [  1.  64.]\n",
      " [  1.  34.]\n",
      " [  1.  55.]\n",
      " [  1. 100.]\n",
      " [  1.  20.]\n",
      " [  1.  69.]\n",
      " [  1. 347.]\n",
      " [  1.  60.]\n",
      " [  1. 103.]\n",
      " [  1.  68.]\n",
      " [  1.  96.]\n",
      " [  1. 347.]\n",
      " [  1.  17.]\n",
      " [  1.  50.]\n",
      " [  1.  18.]\n",
      " [  1.  89.]\n",
      " [  1.  58.]\n",
      " [  1.  15.]\n",
      " [  1.  44.]\n",
      " [  1.  35.]\n",
      " [  1.  45.]\n",
      " [  1.  37.]\n",
      " [  1.  15.]\n",
      " [  1.  40.]\n",
      " [  1.  50.]\n",
      " [  1.  84.]\n",
      " [  1.  32.]\n",
      " [  1.  88.]\n",
      " [  1.  50.]\n",
      " [  1.  80.]\n",
      " [  1.  25.]\n",
      " [  1.  18.]\n",
      " [  1.  29.]\n",
      " [  1.  44.]\n",
      " [  1.  84.]\n",
      " [  1.  32.]\n",
      " [  1.  73.]\n",
      " [  1.  11.]\n",
      " [  1. 125.]\n",
      " [  1. 180.]\n",
      " [  1.  90.]\n",
      " [  1.  55.]\n",
      " [  1.  62.]\n",
      " [  1.  85.]\n",
      " [  1.  31.]\n",
      " [  1. 173.]\n",
      " [  1. 162.]\n",
      " [  1.  42.]\n",
      " [  1.  22.]] [ 1830  2280  1550  2950  3200   815  1700  2162  1400  3200  2700   966\n",
      "  1397  1250  1200  2107  5950  1048  2000  2300  1851  2100  3680  3300\n",
      "  1245  1220   488  3200 25000  1300  2650  2190  1958  7450  2900  1040\n",
      "   850  5100  2650  2415   700  1865  1700   637  2400  3220  1340  2950\n",
      "  1450  2800  1000  1300   890  3200   910   850   990   981   900  1280\n",
      "  2044  1700  1520  3100   960  2180 15000  2200  3500  2800  2941 14300\n",
      "   682  1550   875  2471  2020   645  1365  1850  1584  1100   800  1390\n",
      "  2800  2450  2500  3350  3000  4000  1100   700   900  1225  3200  1500\n",
      "  1922   730  3950 20000  3000  1900  1765  2886  1344  4937  5233  1220\n",
      "   840]\n"
     ]
    }
   ],
   "source": [
    "import numpy as np\n",
    "import pandas as pd\n",
    "import matplotlib.pyplot as plt\n",
    "from sklearn.model_selection import train_test_split\n",
    "\n",
    "# Récupération des données csv:\n",
    "house_data = pd.read_csv('house.csv')\n",
    "\n",
    "X = np.array([np.ones(house_data.shape[0]), house_data['surface'].values]).T\n",
    "y = np.array(house_data['loyer']).T\n",
    "\n",
    "# 80% des données pour s'entrainer et le reste pour tester\n",
    "xtrain, xtest, ytrain, ytest = train_test_split(X, y, train_size=0.8)\n",
    "\n",
    "print(xtest, ytest)"
   ]
  },
  {
   "cell_type": "code",
   "execution_count": 23,
   "id": "e759bbbd",
   "metadata": {},
   "outputs": [],
   "source": [
    "from sklearn.datasets import fetch_openml\n",
    "mnist = fetch_openml('mnist_784', version=1)\n",
    "\n",
    "# url = \"C:/Users/jalil/Documents/Licence/Machine_Learning/mldata/mnist-original.dat\"\n",
    "\n",
    "# print(url)\n",
    "# mnist = fetch_openml(url, data_home=\"./mnist\")\n",
    "\n",
    "# print(mnist.data[0])\n"
   ]
  },
  {
   "cell_type": "code",
   "execution_count": 35,
   "id": "c576c260",
   "metadata": {},
   "outputs": [
    {
     "name": "stdout",
     "output_type": "stream",
     "text": [
      "(70000, 784)\n",
      "(70000,)\n",
      "0        5\n",
      "1        0\n",
      "2        4\n",
      "3        1\n",
      "4        9\n",
      "        ..\n",
      "69995    2\n",
      "69996    3\n",
      "69997    4\n",
      "69998    5\n",
      "69999    6\n",
      "Name: class, Length: 70000, dtype: category\n",
      "Categories (10, object): ['0', '1', '2', '3', ..., '6', '7', '8', '9']\n"
     ]
    }
   ],
   "source": [
    "# Le dataset principal qui contient toutes les images\n",
    "print (mnist.data.shape)\n",
    "\n",
    "# Le vecteur d'annotations associé au dataset (nombre entre 0 et 9)\n",
    "print (mnist.target.shape)\n",
    "print(mnist.target)"
   ]
  },
  {
   "cell_type": "code",
   "execution_count": 60,
   "id": "423b4793",
   "metadata": {},
   "outputs": [],
   "source": [
    "import numpy as np\n",
    "sample = np.random.randint(70000, size=5000)\n",
    "data = np.array(mnist.data)[sample]\n",
    "target = np.array(mnist.target)[sample]\n"
   ]
  },
  {
   "cell_type": "code",
   "execution_count": 61,
   "id": "7a0dfea0",
   "metadata": {},
   "outputs": [],
   "source": [
    "from sklearn.model_selection import train_test_split\n",
    "\n",
    "xtrain, xtest, ytrain, ytest = train_test_split(data, target, train_size=0.8)"
   ]
  },
  {
   "cell_type": "code",
   "execution_count": 51,
   "id": "e1d425e0",
   "metadata": {},
   "outputs": [
    {
     "data": {
      "text/html": [
       "<style>#sk-container-id-1 {color: black;background-color: white;}#sk-container-id-1 pre{padding: 0;}#sk-container-id-1 div.sk-toggleable {background-color: white;}#sk-container-id-1 label.sk-toggleable__label {cursor: pointer;display: block;width: 100%;margin-bottom: 0;padding: 0.3em;box-sizing: border-box;text-align: center;}#sk-container-id-1 label.sk-toggleable__label-arrow:before {content: \"▸\";float: left;margin-right: 0.25em;color: #696969;}#sk-container-id-1 label.sk-toggleable__label-arrow:hover:before {color: black;}#sk-container-id-1 div.sk-estimator:hover label.sk-toggleable__label-arrow:before {color: black;}#sk-container-id-1 div.sk-toggleable__content {max-height: 0;max-width: 0;overflow: hidden;text-align: left;background-color: #f0f8ff;}#sk-container-id-1 div.sk-toggleable__content pre {margin: 0.2em;color: black;border-radius: 0.25em;background-color: #f0f8ff;}#sk-container-id-1 input.sk-toggleable__control:checked~div.sk-toggleable__content {max-height: 200px;max-width: 100%;overflow: auto;}#sk-container-id-1 input.sk-toggleable__control:checked~label.sk-toggleable__label-arrow:before {content: \"▾\";}#sk-container-id-1 div.sk-estimator input.sk-toggleable__control:checked~label.sk-toggleable__label {background-color: #d4ebff;}#sk-container-id-1 div.sk-label input.sk-toggleable__control:checked~label.sk-toggleable__label {background-color: #d4ebff;}#sk-container-id-1 input.sk-hidden--visually {border: 0;clip: rect(1px 1px 1px 1px);clip: rect(1px, 1px, 1px, 1px);height: 1px;margin: -1px;overflow: hidden;padding: 0;position: absolute;width: 1px;}#sk-container-id-1 div.sk-estimator {font-family: monospace;background-color: #f0f8ff;border: 1px dotted black;border-radius: 0.25em;box-sizing: border-box;margin-bottom: 0.5em;}#sk-container-id-1 div.sk-estimator:hover {background-color: #d4ebff;}#sk-container-id-1 div.sk-parallel-item::after {content: \"\";width: 100%;border-bottom: 1px solid gray;flex-grow: 1;}#sk-container-id-1 div.sk-label:hover label.sk-toggleable__label {background-color: #d4ebff;}#sk-container-id-1 div.sk-serial::before {content: \"\";position: absolute;border-left: 1px solid gray;box-sizing: border-box;top: 0;bottom: 0;left: 50%;z-index: 0;}#sk-container-id-1 div.sk-serial {display: flex;flex-direction: column;align-items: center;background-color: white;padding-right: 0.2em;padding-left: 0.2em;position: relative;}#sk-container-id-1 div.sk-item {position: relative;z-index: 1;}#sk-container-id-1 div.sk-parallel {display: flex;align-items: stretch;justify-content: center;background-color: white;position: relative;}#sk-container-id-1 div.sk-item::before, #sk-container-id-1 div.sk-parallel-item::before {content: \"\";position: absolute;border-left: 1px solid gray;box-sizing: border-box;top: 0;bottom: 0;left: 50%;z-index: -1;}#sk-container-id-1 div.sk-parallel-item {display: flex;flex-direction: column;z-index: 1;position: relative;background-color: white;}#sk-container-id-1 div.sk-parallel-item:first-child::after {align-self: flex-end;width: 50%;}#sk-container-id-1 div.sk-parallel-item:last-child::after {align-self: flex-start;width: 50%;}#sk-container-id-1 div.sk-parallel-item:only-child::after {width: 0;}#sk-container-id-1 div.sk-dashed-wrapped {border: 1px dashed gray;margin: 0 0.4em 0.5em 0.4em;box-sizing: border-box;padding-bottom: 0.4em;background-color: white;}#sk-container-id-1 div.sk-label label {font-family: monospace;font-weight: bold;display: inline-block;line-height: 1.2em;}#sk-container-id-1 div.sk-label-container {text-align: center;}#sk-container-id-1 div.sk-container {/* jupyter's `normalize.less` sets `[hidden] { display: none; }` but bootstrap.min.css set `[hidden] { display: none !important; }` so we also need the `!important` here to be able to override the default hidden behavior on the sphinx rendered scikit-learn.org. See: https://github.com/scikit-learn/scikit-learn/issues/21755 */display: inline-block !important;position: relative;}#sk-container-id-1 div.sk-text-repr-fallback {display: none;}</style><div id=\"sk-container-id-1\" class=\"sk-top-container\"><div class=\"sk-text-repr-fallback\"><pre>KNeighborsClassifier(n_neighbors=3)</pre><b>In a Jupyter environment, please rerun this cell to show the HTML representation or trust the notebook. <br />On GitHub, the HTML representation is unable to render, please try loading this page with nbviewer.org.</b></div><div class=\"sk-container\" hidden><div class=\"sk-item\"><div class=\"sk-estimator sk-toggleable\"><input class=\"sk-toggleable__control sk-hidden--visually\" id=\"sk-estimator-id-1\" type=\"checkbox\" checked><label for=\"sk-estimator-id-1\" class=\"sk-toggleable__label sk-toggleable__label-arrow\">KNeighborsClassifier</label><div class=\"sk-toggleable__content\"><pre>KNeighborsClassifier(n_neighbors=3)</pre></div></div></div></div></div>"
      ],
      "text/plain": [
       "KNeighborsClassifier(n_neighbors=3)"
      ]
     },
     "execution_count": 51,
     "metadata": {},
     "output_type": "execute_result"
    }
   ],
   "source": [
    "from sklearn import neighbors\n",
    "\n",
    "knn = neighbors.KNeighborsClassifier(n_neighbors=3)\n",
    "knn.fit(xtrain, ytrain)"
   ]
  },
  {
   "cell_type": "code",
   "execution_count": 55,
   "id": "5da443ef",
   "metadata": {},
   "outputs": [
    {
     "name": "stdout",
     "output_type": "stream",
     "text": [
      "0.07899999999999996\n"
     ]
    }
   ],
   "source": [
    "# On evalue l'erreur notre modèle \n",
    "error = 1 - knn.score(xtest, ytest)\n",
    "print(error)\n"
   ]
  },
  {
   "cell_type": "code",
   "execution_count": 69,
   "id": "bdafaeb0",
   "metadata": {},
   "outputs": [
    {
     "data": {
      "image/png": "[encoded data removed]",
      "text/plain": [
       "<Figure size 640x480 with 1 Axes>"
      ]
     },
     "metadata": {},
     "output_type": "display_data"
    }
   ],
   "source": [
    "# On va maintenant chercher à optimiser notre modèle en faisant varier le nombre de voisins\n",
    "errors = []\n",
    "for k in range(2, 15):\n",
    "    knn = neighbors.KNeighborsClassifier(n_neighbors=k)\n",
    "    knn.fit(xtrain, ytrain)\n",
    "    errors.append(100 * (1 - knn.score(xtest, ytest)))\n",
    "\n",
    "import matplotlib.pyplot as plt\n",
    "# On fait un représentation graphique afin de voir le nombre optimal de voisin (erreur la plus petite)\n",
    "plt.plot(range(2,15), errors, 'o-')\n",
    "plt.ylabel(\"Error rate %\")\n",
    "plt.xlabel(\"value of K\")\n",
    "plt.show()"
   ]
  },
  {
   "cell_type": "code",
   "execution_count": 73,
   "id": "a6e3713f",
   "metadata": {},
   "outputs": [
    {
     "name": "stdout",
     "output_type": "stream",
     "text": [
      "6.599999999999994\n",
      "1\n"
     ]
    }
   ],
   "source": [
    "# On s'aperçoit que le nombre optimal de voisins pour cette apprentissage est 4 avec un taux d'erreur de 7.8%\n",
    "best_score = min(errors)\n",
    "best_k = errors.index(best_score)\n",
    "\n",
    "print(best_score)\n",
    "print(best_k)"
   ]
  },
  {
   "cell_type": "code",
   "execution_count": 75,
   "id": "c31b1f2c",
   "metadata": {},
   "outputs": [],
   "source": [
    "# Récupération des erreurs d'évaluation avec le meilleur score\n",
    "knn = neighbors.KNeighborsClassifier(n_neighbors=best_k)\n",
    "knn.fit(xtrain, ytrain)\n",
    "ypredicted = knn.predict(xtest)\n",
    "\n",
    "pictures = xtest.reshape((-1, 28, 28))\n",
    "\n",
    "nb_images = 12\n",
    "\n",
    "selected_pictures = np.random.randint(pictures.shape[0], size=nb_images)\n",
    "\n",
    "\n",
    "missed_value = (ytest != ypredicted)"
   ]
  },
  {
   "cell_type": "code",
   "execution_count": 81,
   "id": "5dbd2eff",
   "metadata": {},
   "outputs": [
    {
     "name": "stdout",
     "output_type": "stream",
     "text": [
      "[ True False False False False False False False False False False False\n",
      " False False False False False False False False False False False False\n",
      " False False False False False False False False False False False False\n",
      " False False False False False False False False False False False False\n",
      " False False False False False False False False False False False False\n",
      " False False False False False False False False False False False False\n",
      " False False False False False False False False False False False False\n",
      " False False False False False False False False False False False False\n",
      " False False False False False False False False False False False False\n",
      " False False False False False False False False False False False False\n",
      " False False False False False False False False False False False False\n",
      " False False False False False False False False False False False False\n",
      " False False False False False False False False False False False False\n",
      " False False False False False False False False False False False False\n",
      " False False False False False False False False False False False False\n",
      " False False False False False False False False False False False False\n",
      " False False False False False False False False False False False False\n",
      " False False False False False False False False False False False False\n",
      " False False False False False False False False False False False False\n",
      " False False False False False False False False False False False False\n",
      " False False False False False False False False False False False False\n",
      " False False False False False False False False False False False False\n",
      " False False False False False False False False False False False False\n",
      " False False False False False False False False False False False False\n",
      " False False False False False False False False False False False False\n",
      " False False False False False False False False False False False False\n",
      " False False False False False False False False False False False False\n",
      " False False False False False False False False False False False False\n",
      " False False False False False False False False False False False False\n",
      " False False False False False False False False False False False False\n",
      " False False False False False False False False False False False False\n",
      " False False False False False False False False False False False False\n",
      " False False False False False False False False False False False False\n",
      " False False False False False False False False False False False False\n",
      " False False False False False False False False False False False False\n",
      " False False False False False False False False False False False False\n",
      " False False False False False False False False False False False False\n",
      " False False False False False False False False False False False False\n",
      " False False False False False False False False False False False False\n",
      " False False False False False False False False False False False False\n",
      " False False False False False False False False False False False False\n",
      " False False False False False False False False False False False False\n",
      " False False False False False False False False False False False False\n",
      " False False False False False False False False False False False False\n",
      " False False False False False False False False False False False False\n",
      " False False False False False False False False False False False False\n",
      " False False False False False False False False False False False False\n",
      " False False False False False False False False False False False False\n",
      " False False False False False False False False False False False False\n",
      " False False False False False False False False False False False False\n",
      " False False False False False False False False False False False False\n",
      " False False False False False False False False False False False False\n",
      " False False False False False False False False False False False False\n",
      " False False False False False False False False False False False False\n",
      " False False False False False False False False False False False False\n",
      " False False False False False False False False False False False False\n",
      " False False False False False False False False False False False False\n",
      " False False False False False False False False False False False False\n",
      " False False False False False False False False False False False False\n",
      " False False False False False False False False False False False False\n",
      " False False False False False False False False False False False False\n",
      " False False False False False False False False False False False False\n",
      " False False False False False False False False False False False False\n",
      " False False False False False False False False False False False False\n",
      " False False False False False False False False False False False False\n",
      " False False False False False False False False False False False False\n",
      " False False False False False False False False False False False False\n",
      " False False False False False False False False False False False False\n",
      " False False False False False False False False False False False False\n",
      " False False False False False False False False False False False False\n",
      " False False False False False False False False False False False False\n",
      " False False False False False False False False False False False False\n",
      " False False False False False False False False False False False False\n",
      " False False False False False False False False False False False False\n",
      " False False False False False False False False False False False False\n",
      " False False False False False False False False False False False False\n",
      " False False False False False False False False False False False False\n",
      " False False False False False False False False False False False False\n",
      " False False False False False False False False False False False False\n",
      " False False False False False False False False False False False False\n",
      " False False False False False False False False False False False False\n",
      " False False False False False False False False False False False False\n",
      " False False False False False False False False False False False False\n",
      " False False False False]\n"
     ]
    }
   ],
   "source": [
    "lll = ypredicted.copy()\n",
    "lll[0] = '81'\n",
    "missed_value = (lll != ypredicted)\n",
    "print(missed_value)"
   ]
  }
 ],
 "metadata": {
  "kernelspec": {
   "display_name": "Python 3 (ipykernel)",
   "language": "python",
   "name": "python3"
  },
  "language_info": {
   "codemirror_mode": {
    "name": "ipython",
    "version": 3
   },
   "file_extension": ".py",
   "mimetype": "text/x-python",
   "name": "python",
   "nbconvert_exporter": "python",
   "pygments_lexer": "ipython3",
   "version": "3.10.7"
  }
 },
 "nbformat": 4,
 "nbformat_minor": 5
}
